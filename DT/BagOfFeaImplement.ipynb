{
 "cells": [
  {
   "cell_type": "code",
   "execution_count": 1,
   "metadata": {},
   "outputs": [],
   "source": [
    "# -*- coding: utf-8 -*-\n",
    "\"\"\"\n",
    "Created on Fri Nov 29 21:02:34 2019\n",
    "Pattern Recognition Action Recognition Project DT\n",
    "@author: Li Meiziniu\n",
    "\"\"\"    \n",
    "%matplotlib inline\n",
    "# import csv\n",
    "import sklearn.externals\n",
    "import numpy as np\n",
    "from sklearn import svm\n",
    "import matplotlib.pyplot as plt\n",
    "from scipy.cluster.vq import *\n",
    "import pandas as pd\n",
    "import os\n",
    "import random"
   ]
  },
  {
   "cell_type": "code",
   "execution_count": 550,
   "metadata": {},
   "outputs": [],
   "source": [
    "OUTPUT_PATH = \"../Output\"\n",
    "NUM_P_CLASS = 10\n",
    "NUM_CLASS = 6\n",
    "k = 4000\n",
    "MAX_LENGTH = 2000"
   ]
  },
  {
   "cell_type": "code",
   "execution_count": 551,
   "metadata": {},
   "outputs": [],
   "source": [
    "def readCSV(file_path):\n",
    "    return np.array(pd.read_table(file_path, header=None))[:,10:-1]\n",
    "\n",
    "def readhist(videolist,voc):\n",
    "###############################\n",
    "#Input: video feature, with several interests feature sequence, vocabulary obtained from kmeans\n",
    "#Output: histogram of this video\n",
    "#################################\n",
    "    #histogram start\n",
    "    im_features = np.zeros((k), \"float32\")\n",
    "    #vq(obs, code_book[, check_finite]) Assign codes from a code book to observations.\n",
    "    words, distance = vq(videolist, voc) #vector quantization\n",
    "    for w in words:\n",
    "        im_features[w] += 1\n",
    "    return im_features"
   ]
  },
  {
   "cell_type": "code",
   "execution_count": 552,
   "metadata": {},
   "outputs": [],
   "source": [
    "#Split Training set and Testing set\n",
    "def createTrainTest(path):\n",
    "    subdir = os.listdir(path)\n",
    "    trainlist = np.array([])\n",
    "    trainlabel = np.array([])\n",
    "    testlist = np.array([])\n",
    "    testlabel = np.array([])\n",
    "    for i in subdir:\n",
    "        preroot = os.path.join(path,i)\n",
    "        videolist = np.array(os.listdir(preroot))\n",
    "        trainIndex = random.sample(range(0, len(videolist)),NUM_P_CLASS)\n",
    "        trainlist = np.hstack((trainlist, videolist[trainIndex]))\n",
    "        trainlabel = np.hstack((trainlabel, [i]*NUM_P_CLASS))\n",
    "        testlist = np.hstack((testlist, np.delete(videolist, trainIndex)))\n",
    "        testlabel = np.hstack((testlabel, [i]*(len(videolist) - NUM_P_CLASS)))\n",
    "    return trainlist, trainlabel, testlist, testlabel\n",
    "\n",
    "trainlist, trainlabel, testlist, testlabel = createTrainTest(OUTPUT_PATH)"
   ]
  },
  {
   "cell_type": "code",
   "execution_count": 553,
   "metadata": {},
   "outputs": [],
   "source": [
    "trainFeature = []\n",
    "for i, j in zip(trainlist, trainlabel):\n",
    "    targetVideo = os.path.join(OUTPUT_PATH, j, i)\n",
    "    feature = np.vstack(readCSV(targetVideo))\n",
    "    stepIndex = np.linspace(0, len(feature)-1, MAX_LENGTH, dtype = int)\n",
    "    trainFeature.append(feature[stepIndex])\n",
    "\n",
    "trainFeatureNP = np.vstack(np.array(trainFeature))"
   ]
  },
  {
   "cell_type": "code",
   "execution_count": 554,
   "metadata": {},
   "outputs": [],
   "source": [
    "voc, _ = kmeans(trainFeatureNP, k, 1)"
   ]
  },
  {
   "cell_type": "code",
   "execution_count": 555,
   "metadata": {},
   "outputs": [],
   "source": [
    "#Calculate the hist, use the readhist(videolist, voc) function\n",
    "trainHist = []\n",
    "for i in trainFeature:\n",
    "    trainHist.append(readhist(i, voc))\n",
    "trainHist = np.array(trainHist)"
   ]
  },
  {
   "cell_type": "code",
   "execution_count": 556,
   "metadata": {},
   "outputs": [
    {
     "data": {
      "text/plain": [
       "SVC(C=1.0, break_ties=False, cache_size=200, class_weight=None, coef0=0.0,\n",
       "    decision_function_shape='ovr', degree=3, gamma='scale', kernel='rbf',\n",
       "    max_iter=-1, probability=False, random_state=None, shrinking=True,\n",
       "    tol=0.001, verbose=False)"
      ]
     },
     "execution_count": 556,
     "metadata": {},
     "output_type": "execute_result"
    }
   ],
   "source": [
    "clf = svm.SVC()\n",
    "clf.fit(trainHist,trainlabel)"
   ]
  },
  {
   "cell_type": "code",
   "execution_count": 557,
   "metadata": {},
   "outputs": [
    {
     "name": "stdout",
     "output_type": "stream",
     "text": [
      "correct number is: 60\n",
      "wrong number is: 0\n",
      "The Final Accuracy is: 1.0\n"
     ]
    }
   ],
   "source": [
    "#First, lets' test train dataset\n",
    "correct = 0\n",
    "wrong = 0\n",
    "for i in range(len(trainHist)):\n",
    "    result = clf.predict(trainHist[i].reshape(1,-1))\n",
    "    if result == trainlabel[i]:\n",
    "        correct += 1\n",
    "    else:\n",
    "        wrong += 1\n",
    "print(\"correct number is:\", correct)\n",
    "print(\"wrong number is:\", wrong)\n",
    "print(\"The Final Accuracy is:\", correct/(correct+wrong))"
   ]
  },
  {
   "cell_type": "code",
   "execution_count": 558,
   "metadata": {},
   "outputs": [],
   "source": [
    "#Second, let's calculate tests' feature and hist\n",
    "testFeature = []\n",
    "for i, j in zip(testlist, testlabel):\n",
    "    targetVideo = os.path.join(OUTPUT_PATH, j, i)\n",
    "    feature = np.vstack(readCSV(targetVideo))\n",
    "    stepIndex = np.linspace(0, len(feature)-1, MAX_LENGTH, dtype = int)\n",
    "    testFeature.append(feature[stepIndex])\n",
    "\n",
    "#Calculate the hist, use the readhist(videolist, voc) function\n",
    "testHist = []\n",
    "for i in testFeature:\n",
    "    testHist.append(readhist(i, voc))\n",
    "testHist = np.array(testHist)"
   ]
  },
  {
   "cell_type": "code",
   "execution_count": 559,
   "metadata": {},
   "outputs": [
    {
     "name": "stdout",
     "output_type": "stream",
     "text": [
      "correct number: 46\n",
      "wrong number: 51\n",
      "The Final Accuracy is: 0.4742268041237113\n"
     ]
    }
   ],
   "source": [
    "#lets' test train dataset\n",
    "correct = 0\n",
    "wrong = 0\n",
    "for i in range(len(testHist)):\n",
    "    result = clf.predict(testHist[i].reshape(1,-1))\n",
    "    if result == testlabel[i]:\n",
    "        correct += 1\n",
    "    else:\n",
    "        wrong += 1\n",
    "print(\"correct number:\", correct)\n",
    "print(\"wrong number:\", wrong)\n",
    "print(\"The Final Accuracy is:\", correct/(correct+wrong))"
   ]
  },
  {
   "cell_type": "code",
   "execution_count": null,
   "metadata": {},
   "outputs": [],
   "source": []
  },
  {
   "cell_type": "code",
   "execution_count": null,
   "metadata": {},
   "outputs": [],
   "source": []
  }
 ],
 "metadata": {
  "kernelspec": {
   "display_name": "cs231n_1",
   "language": "python",
   "name": "cs231n_1"
  },
  "language_info": {
   "codemirror_mode": {
    "name": "ipython",
    "version": 3
   },
   "file_extension": ".py",
   "mimetype": "text/x-python",
   "name": "python",
   "nbconvert_exporter": "python",
   "pygments_lexer": "ipython3",
   "version": "3.6.10"
  }
 },
 "nbformat": 4,
 "nbformat_minor": 2
}
